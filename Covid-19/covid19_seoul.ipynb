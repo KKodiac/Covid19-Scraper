{
  "nbformat": 4,
  "nbformat_minor": 0,
  "metadata": {
    "kernelspec": {
      "display_name": "Python 3",
      "language": "python",
      "name": "python3"
    },
    "language_info": {
      "codemirror_mode": {
        "name": "ipython",
        "version": 3
      },
      "file_extension": ".py",
      "mimetype": "text/x-python",
      "name": "python",
      "nbconvert_exporter": "python",
      "pygments_lexer": "ipython3",
      "version": "3.7.4"
    },
    "toc": {
      "base_numbering": 1,
      "nav_menu": {},
      "number_sections": true,
      "sideBar": true,
      "skip_h1_title": false,
      "title_cell": "Table of Contents",
      "title_sidebar": "Contents",
      "toc_cell": false,
      "toc_position": {},
      "toc_section_display": true,
      "toc_window_display": false
    },
    "varInspector": {
      "cols": {
        "lenName": 16,
        "lenType": 16,
        "lenVar": 40
      },
      "kernels_config": {
        "python": {
          "delete_cmd_postfix": "",
          "delete_cmd_prefix": "del ",
          "library": "var_list.py",
          "varRefreshCmd": "print(var_dic_list())"
        },
        "r": {
          "delete_cmd_postfix": ") ",
          "delete_cmd_prefix": "rm(",
          "library": "var_list.r",
          "varRefreshCmd": "cat(var_dic_list()) "
        }
      },
      "types_to_exclude": [
        "module",
        "function",
        "builtin_function_or_method",
        "instance",
        "_Feature"
      ],
      "window_display": false
    },
    "colab": {
      "name": "covid19_seoul.ipynb",
      "provenance": [],
      "collapsed_sections": [],
      "include_colab_link": true
    }
  },
  "cells": [
    {
      "cell_type": "markdown",
      "metadata": {
        "id": "view-in-github",
        "colab_type": "text"
      },
      "source": [
        "<a href=\"https://colab.research.google.com/github/snoop2head/Covid19_Stats/blob/master/covid19_seoul.ipynb\" target=\"_parent\"><img src=\"https://colab.research.google.com/assets/colab-badge.svg\" alt=\"Open In Colab\"/></a>"
      ]
    },
    {
      "cell_type": "code",
      "metadata": {
        "id": "kOsfqO8-Tv2t",
        "colab_type": "code",
        "colab": {},
        "outputId": "f05db29e-4693-49fb-a1d8-5ee8eac00d06"
      },
      "source": [
        "# access to seoul corona data panel\n",
        "scrape_url = \"http://www.seoul.go.kr/coronaV/coronaStatus.do\"\n",
        "\n",
        "# create dummy dataframe\n",
        "dummy_data1 = {}\n",
        "df = pd.DataFrame(dummy_data1)\n",
        "\n",
        "# get page content response from the web using requests and beautifulsoup\n",
        "res = requests.get(scrape_url)\n",
        "soup = BeautifulSoup(res.content, \"lxml\")\n",
        "\n",
        "# use table html tag to find tables in the webpage:\n",
        "tables = soup.find_all(\"table\")\n",
        "# print(len(tables))\n",
        "\n",
        "# crawl all table data from the webpage: this includes unwanted data\n",
        "for i in range(0, len(tables)):\n",
        "    # using panda's read_html to crawl tabledata\n",
        "    df_crawl = pd.read_html(str(tables[i]), encoding=\"utf-8\", header=0)[0]\n",
        "    # save as csv files\n",
        "    df_crawl.to_csv(\"./Data/Korea/seoul_timeseries/\" + str(i) + \".csv\")\n",
        "\n",
        "# validate all collected csv data from seoul, save and merge confirmed cases as csv file\n",
        "df_confirmed = pd.DataFrame(dummy_data1)\n",
        "for i in range(0, len(tables)):\n",
        "    # read all csv files in folder\n",
        "    df_not_validated = pd.read_csv(\n",
        "        \"./Data/Korea/seoul_timeseries/\" + str(i) + \".csv\"\n",
        "    )\n",
        "\n",
        "    if len(df_not_validated.index) < 10:\n",
        "        pass\n",
        "    else:\n",
        "        columns_list = df_not_validated.columns\n",
        "        if \"환자\" in columns_list:\n",
        "            # print(df_not_validated.head())\n",
        "            df_confirmed = pd.concat([df_confirmed, df_not_validated])\n",
        "\n",
        "df_confirmed.to_csv(\"./Data/Korea/covid_dat_seoul.csv\")\n",
        "df_confirmed.head()"
      ],
      "execution_count": 0,
      "outputs": [
        {
          "output_type": "execute_result",
          "data": {
            "text/html": [
              "<div>\n",
              "<style scoped>\n",
              "    .dataframe tbody tr th:only-of-type {\n",
              "        vertical-align: middle;\n",
              "    }\n",
              "\n",
              "    .dataframe tbody tr th {\n",
              "        vertical-align: top;\n",
              "    }\n",
              "\n",
              "    .dataframe thead th {\n",
              "        text-align: right;\n",
              "    }\n",
              "</style>\n",
              "<table border=\"1\" class=\"dataframe\">\n",
              "  <thead>\n",
              "    <tr style=\"text-align: right;\">\n",
              "      <th></th>\n",
              "      <th>Unnamed: 0</th>\n",
              "      <th>연번</th>\n",
              "      <th>환자</th>\n",
              "      <th>확진일</th>\n",
              "      <th>성별(출생년)</th>\n",
              "      <th>거주지</th>\n",
              "      <th>여행력</th>\n",
              "      <th>접촉력</th>\n",
              "      <th>조치사항</th>\n",
              "    </tr>\n",
              "  </thead>\n",
              "  <tbody>\n",
              "    <tr>\n",
              "      <td>0</td>\n",
              "      <td>0</td>\n",
              "      <td>240</td>\n",
              "      <td>확인중</td>\n",
              "      <td>3.13.</td>\n",
              "      <td>여('66)</td>\n",
              "      <td>동대문구</td>\n",
              "      <td>-</td>\n",
              "      <td>#7297 접촉</td>\n",
              "      <td>확인중</td>\n",
              "    </tr>\n",
              "    <tr>\n",
              "      <td>1</td>\n",
              "      <td>1</td>\n",
              "      <td>239</td>\n",
              "      <td>확인중</td>\n",
              "      <td>3.13.</td>\n",
              "      <td>남('94)</td>\n",
              "      <td>동대문구</td>\n",
              "      <td>-</td>\n",
              "      <td>확인중</td>\n",
              "      <td>확인중</td>\n",
              "    </tr>\n",
              "    <tr>\n",
              "      <td>2</td>\n",
              "      <td>2</td>\n",
              "      <td>238</td>\n",
              "      <td>확인중</td>\n",
              "      <td>3.13.</td>\n",
              "      <td>여('41)</td>\n",
              "      <td>동대문구</td>\n",
              "      <td>-</td>\n",
              "      <td>#7297 접촉</td>\n",
              "      <td>확인중</td>\n",
              "    </tr>\n",
              "    <tr>\n",
              "      <td>3</td>\n",
              "      <td>3</td>\n",
              "      <td>237</td>\n",
              "      <td>확인중</td>\n",
              "      <td>3.13.</td>\n",
              "      <td>여('98)</td>\n",
              "      <td>마포구</td>\n",
              "      <td>프랑스</td>\n",
              "      <td>해외접촉</td>\n",
              "      <td>서울의료원</td>\n",
              "    </tr>\n",
              "    <tr>\n",
              "      <td>4</td>\n",
              "      <td>4</td>\n",
              "      <td>236</td>\n",
              "      <td>확인중</td>\n",
              "      <td>3.13.</td>\n",
              "      <td>남('91)</td>\n",
              "      <td>노원구</td>\n",
              "      <td>영국, 프랑스</td>\n",
              "      <td>해외접촉</td>\n",
              "      <td>서울의료원</td>\n",
              "    </tr>\n",
              "  </tbody>\n",
              "</table>\n",
              "</div>"
            ],
            "text/plain": [
              "   Unnamed: 0   연번   환자    확진일 성별(출생년)   거주지      여행력       접촉력   조치사항\n",
              "0           0  240  확인중  3.13.  여('66)  동대문구        -  #7297 접촉    확인중\n",
              "1           1  239  확인중  3.13.  남('94)  동대문구        -       확인중    확인중\n",
              "2           2  238  확인중  3.13.  여('41)  동대문구        -  #7297 접촉    확인중\n",
              "3           3  237  확인중  3.13.  여('98)   마포구      프랑스      해외접촉  서울의료원\n",
              "4           4  236  확인중  3.13.  남('91)   노원구  영국, 프랑스      해외접촉  서울의료원"
            ]
          },
          "metadata": {
            "tags": []
          },
          "execution_count": 20
        }
      ]
    },
    {
      "cell_type": "code",
      "metadata": {
        "id": "BOaXPRg5Tv2z",
        "colab_type": "code",
        "colab": {}
      },
      "source": [
        ""
      ],
      "execution_count": 0,
      "outputs": []
    }
  ]
}